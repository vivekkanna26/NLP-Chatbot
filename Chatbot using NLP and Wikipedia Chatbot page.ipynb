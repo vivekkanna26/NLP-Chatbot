{
 "cells": [
  {
   "cell_type": "code",
   "execution_count": 1,
   "id": "9094d9be",
   "metadata": {},
   "outputs": [],
   "source": [
    "# coding: utf-8\n",
    "# # Meet Robo: your friend\n",
    "\n",
    "import nltk\n",
    "import warnings\n",
    "warnings.filterwarnings(\"ignore\")"
   ]
  },
  {
   "cell_type": "code",
   "execution_count": 2,
   "id": "ef857f66",
   "metadata": {},
   "outputs": [],
   "source": [
    "# nltk.download() # for downloading packages\n",
    "import numpy as np\n",
    "import random\n",
    "import string # to process standard python strings"
   ]
  },
  {
   "cell_type": "code",
   "execution_count": 3,
   "id": "de233537",
   "metadata": {},
   "outputs": [],
   "source": [
    "\n",
    "# For our example,we will be using the Wikipedia page for chatbots as our corpus.\n",
    "# Copy the contents from the page and place it in a text file named ‘chatbot.txt’.\n",
    "# However, you can use any corpus of your choice.\n",
    "# We will read in the corpus.txt file\n",
    "f=open('chatbot.txt','r',errors = 'ignore')\n",
    "raw=f.read()\n",
    "raw=raw.lower()# converts to lowercase"
   ]
  },
  {
   "cell_type": "code",
   "execution_count": 4,
   "id": "a88c9b0d",
   "metadata": {},
   "outputs": [
    {
     "name": "stderr",
     "output_type": "stream",
     "text": [
      "[nltk_data] Downloading package punkt to\n",
      "[nltk_data]     /Users/vivekkannajayaprakash/nltk_data...\n",
      "[nltk_data]   Package punkt is already up-to-date!\n",
      "[nltk_data] Downloading package wordnet to\n",
      "[nltk_data]     /Users/vivekkannajayaprakash/nltk_data...\n",
      "[nltk_data]   Package wordnet is already up-to-date!\n"
     ]
    },
    {
     "data": {
      "text/plain": [
       "True"
      ]
     },
     "execution_count": 4,
     "metadata": {},
     "output_type": "execute_result"
    }
   ],
   "source": [
    "\n",
    "nltk.download('punkt') # first-time use only\n",
    "nltk.download('wordnet') # first-time use only\n"
   ]
  },
  {
   "cell_type": "code",
   "execution_count": 5,
   "id": "0912d89c",
   "metadata": {},
   "outputs": [
    {
     "data": {
      "text/plain": [
       "['chatbot', 'from', 'wikipedia', ',', 'the']"
      ]
     },
     "execution_count": 5,
     "metadata": {},
     "output_type": "execute_result"
    }
   ],
   "source": [
    "# convert the entire corpus into a list of sentences and a list of words for further pre-processing\n",
    "sent_tokens = nltk.sent_tokenize(raw)# converts to list of sentences\n",
    "word_tokens = nltk.word_tokenize(raw)# converts to list of words\n",
    "\n",
    "sent_tokens[:2]\n",
    "word_tokens[:5]"
   ]
  },
  {
   "cell_type": "code",
   "execution_count": 6,
   "id": "8219df3d",
   "metadata": {},
   "outputs": [
    {
     "data": {
      "text/plain": [
       "'chatbot\\nfrom wikipedia, the free encyclopedia\\njump to navigationjump to search\\nfor other uses, see chatbot (disambiguation).'"
      ]
     },
     "execution_count": 6,
     "metadata": {},
     "output_type": "execute_result"
    }
   ],
   "source": [
    "sent_tokens[0]"
   ]
  },
  {
   "cell_type": "code",
   "execution_count": 7,
   "id": "4e0b369b",
   "metadata": {},
   "outputs": [
    {
     "data": {
      "text/plain": [
       "['chatbot', 'from', 'wikipedia', ',', 'the']"
      ]
     },
     "execution_count": 7,
     "metadata": {},
     "output_type": "execute_result"
    }
   ],
   "source": [
    "\n",
    "word_tokens[:5]"
   ]
  },
  {
   "cell_type": "code",
   "execution_count": 8,
   "id": "7057c9b7",
   "metadata": {},
   "outputs": [],
   "source": [
    "\n",
    "#WordNet is a semantically-oriented dictionary of English included in NLTK.\n",
    "lemmer = nltk.stem.WordNetLemmatizer()\n",
    "\n",
    "# LemTokens will take as input the tokens and return normalized tokens.\n",
    "def LemTokens(tokens):\n",
    "    return [lemmer.lemmatize(token) for token in tokens]"
   ]
  },
  {
   "cell_type": "code",
   "execution_count": 9,
   "id": "5b1ef6b1",
   "metadata": {},
   "outputs": [],
   "source": [
    "remove_punct_dict = dict((ord(punct), None) for punct in string.punctuation)\n",
    "\n",
    "def LemNormalize(text):\n",
    "    return LemTokens(nltk.word_tokenize(text.lower().translate(remove_punct_dict)))"
   ]
  },
  {
   "cell_type": "code",
   "execution_count": null,
   "id": "e3744510",
   "metadata": {},
   "outputs": [],
   "source": []
  },
  {
   "cell_type": "code",
   "execution_count": 10,
   "id": "0a3104fa",
   "metadata": {},
   "outputs": [],
   "source": [
    "GREETING_INPUTS = (\"hello\", \"hi\", \"greetings\", \"sup\", \"what's up\",\"hey\",)\n",
    "GREETING_RESPONSES = [\"hi\", \"hey\", \"*nods*\", \"hi there\", \"hello\", \"I am glad! You are talking to me\"]\n",
    "\n",
    "# Checking for greetings\n",
    "# define a function for a greeting by the bot i.e if a user’s input is a greeting,\n",
    "# the bot shall return a greeting response.\n",
    "def greeting(sentence):\n",
    "    \"\"\"If user's input is a greeting, return a greeting response\"\"\"\n",
    "    for word in sentence.split():\n",
    "        if word.lower() in GREETING_INPUTS:\n",
    "            return random.choice(GREETING_RESPONSES)\n",
    "\n"
   ]
  },
  {
   "cell_type": "code",
   "execution_count": 11,
   "id": "d7b1d977",
   "metadata": {},
   "outputs": [
    {
     "name": "stdout",
     "output_type": "stream",
     "text": [
      "ROBO: My name is Chatty. I will answer your queries about Chatbots. If you want to exit, type Bye!\n",
      "what is chatbot\n",
      "ROBO: chatbot news daily.\n",
      "okay\n",
      "ROBO: I am sorry! I don't understand you\n",
      "its ok\n",
      "ROBO: I am sorry! I don't understand you\n",
      "bye\n",
      "ROBO: Bye! take care..\n"
     ]
    }
   ],
   "source": [
    "# the words need to be encoded as integers or floating point values\n",
    "# for use as input to a machine learning algorithm, called feature extraction (or vectorization).\n",
    "from sklearn.feature_extraction.text import TfidfVectorizer\n",
    "\n",
    "# find the similarity between words entered by the user and the words in the corpus.\n",
    "# This is the simplest possible implementation of a chatbot.\n",
    "from sklearn.metrics.pairwise import cosine_similarity\n",
    "\n",
    "# Generating response\n",
    "# define a function response which searches the user’s utterance for one or more known keywords\n",
    "# and returns one of several possible responses. If it doesn’t find the input matching any of the keywords,\n",
    "# it returns a response:” I am sorry! I don’t understand you”\n",
    "def response(user_response):\n",
    "    robo_response=''\n",
    "    sent_tokens.append(user_response)\n",
    "  \n",
    "   # TF-IDF are word frequency scores that try to highlight words that are more interesting,\n",
    "   # e.g. frequent in a document but not across documents.\n",
    "   # The TfidfVectorizer will tokenize documents, learn the vocabulary and\n",
    "   # inverse document frequency weightings, and allow you to encode new documents.\n",
    "    TfidfVec = TfidfVectorizer(tokenizer=LemNormalize, stop_words='english')\n",
    "\n",
    "   # Learn vocabulary and idf, return term-document matrix\n",
    "   # Returns X : Tf-idf-weighted sparse matrix, [n_samples, n_features] \n",
    "    tfidf = TfidfVec.fit_transform(sent_tokens)\n",
    "   # print (tfidf.shape)\n",
    "  \n",
    "   # Cosine similarity is a measure of similarity between two non-zero vectors.\n",
    "   # Using this formula we can find out the similarity between any two documents d1 and d2.\n",
    "   # Cosine Similarity (d1, d2) =  Dot product(d1, d2) / ||d1|| * ||d2||\n",
    "    vals = cosine_similarity(tfidf[-1], tfidf)\n",
    "  \n",
    "  \n",
    "   # function is used to perform an indirect sort along the given axis using the algorithm\n",
    "   # specified by the kind keyword. It returns an array of indices of the same shape as arr\n",
    "   # that would sort the array.\n",
    "    idx=vals.argsort()[0][-2]\n",
    "  \n",
    "   # Returns a new array that is a one-dimensional flattening of this array (recursively).\n",
    "   # That is, for every element that is an array, extract its elements into the new array.\n",
    "   # If the optional level argument determines the level of recursion to flatten.\n",
    "    flat = vals.flatten()\n",
    "  \n",
    "    flat.sort()\n",
    "    req_tfidf = flat[-2]\n",
    "    \n",
    "    if(req_tfidf==0):\n",
    "        robo_response=robo_response+\"I am sorry! I don't understand you\"\n",
    "        return robo_response\n",
    "    else:\n",
    "        robo_response = robo_response+sent_tokens[idx]\n",
    "        return robo_response\n",
    "\n",
    "flag=True\n",
    "print(\"ROBO: My name is Chatty. I will answer your queries about Chatbots. If you want to exit, type Bye!\")\n",
    "\n",
    "\n",
    "\n",
    "\n",
    "while(flag==True):\n",
    "    \n",
    "    user_response = input()\n",
    "    user_response=user_response.lower()\n",
    "    if(user_response!='bye'):\n",
    "        if(user_response=='thanks' or user_response=='thank you' ):\n",
    "            flag=False\n",
    "            print(\"ROBO: You are welcome..\")\n",
    "        else:\n",
    "            if(greeting(user_response)!=None):\n",
    "                print(\"ROBO: \"+greeting(user_response))\n",
    "            else:\n",
    "                print(\"ROBO: \",end=\"\")\n",
    "                print(response(user_response))\n",
    "                sent_tokens.remove(user_response)\n",
    "    else:\n",
    "        flag=False\n",
    "        print(\"ROBO: Bye! take care..\")"
   ]
  },
  {
   "cell_type": "code",
   "execution_count": null,
   "id": "c71eac82",
   "metadata": {},
   "outputs": [],
   "source": []
  },
  {
   "cell_type": "code",
   "execution_count": null,
   "id": "6ebc7171",
   "metadata": {},
   "outputs": [],
   "source": []
  },
  {
   "cell_type": "code",
   "execution_count": null,
   "id": "3e9b6a0f",
   "metadata": {},
   "outputs": [],
   "source": [
    "\n",
    "​\n"
   ]
  }
 ],
 "metadata": {
  "kernelspec": {
   "display_name": "Python 3",
   "language": "python",
   "name": "python3"
  },
  "language_info": {
   "codemirror_mode": {
    "name": "ipython",
    "version": 3
   },
   "file_extension": ".py",
   "mimetype": "text/x-python",
   "name": "python",
   "nbconvert_exporter": "python",
   "pygments_lexer": "ipython3",
   "version": "3.8.8"
  }
 },
 "nbformat": 4,
 "nbformat_minor": 5
}
